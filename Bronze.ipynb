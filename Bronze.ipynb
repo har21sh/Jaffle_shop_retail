{
 "cells": [
  {
   "cell_type": "code",
   "execution_count": 0,
   "metadata": {
    "application/vnd.databricks.v1+cell": {
     "cellMetadata": {
      "byteLimit": 2048000,
      "rowLimit": 10000
     },
     "inputWidgets": {},
     "nuid": "e37c2b1f-2557-4ad4-96ad-0096af569fa4",
     "showTitle": false,
     "tableResultSettingsMap": {},
     "title": ""
    }
   },
   "outputs": [],
   "source": [
    "# Load data from S3\n",
    "raw_customers = spark.read.format(\"csv\").option(\"header\", \"true\").load(\"s3://dbt-tutorial-public/long_term_dataset/raw_customers.csv\")\n",
    "\n",
    "raw_orders = spark.read.format(\"csv\").option(\"header\", \"true\").load(\"s3://dbt-tutorial-public/long_term_dataset/raw_orders.csv\")\n",
    "\n",
    "raw_order_items = spark.read.format(\"csv\").option(\"header\", \"true\").load(\"s3://dbt-tutorial-public/long_term_dataset/raw_order_items.csv\")\n",
    "\n",
    "raw_products = spark.read.format(\"csv\").option(\"header\", \"true\").load(\"s3://dbt-tutorial-public/long_term_dataset/raw_products.csv\")\n",
    "\n",
    "raw_supplies = spark.read.format(\"csv\").option(\"header\", \"true\").load(\"s3://dbt-tutorial-public/long_term_dataset/raw_supplies.csv\")\n",
    "\n",
    "raw_stores = spark.read.format(\"csv\").option(\"header\", \"true\").load(\"s3://dbt-tutorial-public/long_term_dataset/raw_stores.csv\")"
   ]
  },
  {
   "cell_type": "code",
   "execution_count": 0,
   "metadata": {
    "application/vnd.databricks.v1+cell": {
     "cellMetadata": {
      "byteLimit": 2048000,
      "rowLimit": 10000
     },
     "inputWidgets": {},
     "nuid": "e6ff3a9d-f322-4178-9a63-85765e4a6542",
     "showTitle": false,
     "tableResultSettingsMap": {},
     "title": ""
    }
   },
   "outputs": [],
   "source": [
    "# Overwrite (append) data into the target table\n",
    "raw_stores.write.format(\"delta\").mode(\"append\").saveAsTable(\"jaffle_shop_retail.bronze.raw_stores\")\n",
    "\n",
    "raw_supplies.write.format(\"delta\").mode(\"append\").saveAsTable(\"jaffle_shop_retail.bronze.raw_supplies\")\n",
    "\n",
    "raw_products.write.format(\"delta\").mode(\"append\").saveAsTable(\"jaffle_shop_retail.bronze.raw_products\")\n",
    "\n",
    "raw_order_items.write.format(\"delta\").mode(\"append\").saveAsTable(\"jaffle_shop_retail.bronze.raw_order_items\")\n",
    "\n",
    "raw_orders.write.format(\"delta\").mode(\"append\").saveAsTable(\"jaffle_shop_retail.bronze.raw_orders\")\n",
    "\n",
    "raw_customers.write.format(\"delta\").mode(\"append\").saveAsTable(\"jaffle_shop_retail.bronze.raw_customers\")"
   ]
  }
 ],
 "metadata": {
  "application/vnd.databricks.v1+notebook": {
   "computePreferences": null,
   "dashboards": [],
   "environmentMetadata": {
    "base_environment": "",
    "environment_version": "4"
   },
   "inputWidgetPreferences": null,
   "language": "python",
   "notebookMetadata": {
    "pythonIndentUnit": 4
   },
   "notebookName": "Bronze",
   "widgets": {}
  },
  "language_info": {
   "name": "python"
  }
 },
 "nbformat": 4,
 "nbformat_minor": 0
}
